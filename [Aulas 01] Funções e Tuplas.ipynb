{
 "cells": [
  {
   "cell_type": "markdown",
   "metadata": {},
   "source": [
    "# Aula 01 - Funções e tuplas"
   ]
  },
  {
   "cell_type": "markdown",
   "metadata": {},
   "source": [
    "## Funções"
   ]
  },
  {
   "cell_type": "markdown",
   "metadata": {},
   "source": [
    "Iremos iniciar nosso estudo em **Lógica de Programação II** com funções, e uma novo tipo de estrutura do Python, denominada *tupla*. Avaliaremos como estas ferramentas se relacionam com o que já vimos até o momento."
   ]
  },
  {
   "cell_type": "markdown",
   "metadata": {},
   "source": [
    "### Tópicos da aula\n",
    "- Intuição das funções\n",
    "- Parâmetros\n",
    "- Retorno\n",
    "- Bônus: Recursão\n",
    "- Tuplas"
   ]
  },
  {
   "cell_type": "markdown",
   "metadata": {},
   "source": [
    "Para iniciar nossa discussão sobre funções, primeiramente, vamos criar um trecho de código que calcule o volume de um cilindro, dados seu raio *r* e altura *h*."
   ]
  },
  {
   "cell_type": "markdown",
   "metadata": {},
   "source": [
    "Volume de um cilindro\n",
    "\n",
    "<img src= 'https://br.neurochispas.com/wp-content/uploads/2022/08/Formulas-para-a-area-e-volume-de-um-cilindro.webp' width=\"200\">"
   ]
  },
  {
   "cell_type": "code",
   "execution_count": 2,
   "metadata": {},
   "outputs": [
    {
     "name": "stdout",
     "output_type": "stream",
     "text": [
      "Digite a altura: 8\n",
      "Digite o raio: 6\n",
      "A altura é 8.0 e o raio é 6.0.\n",
      "O volume do cilindro é 904.32 u.v.\n"
     ]
    }
   ],
   "source": [
    "# Vamos pedir as informações de altura e raio ao usuário\n",
    "h = float(input(\"Digite a altura: \"))\n",
    "r = float(input(\"Digite o raio: \"))\n",
    "\n",
    "volume = 3.14 * (r**2) * h\n",
    "\n",
    "print(f\"A altura é {h} e o raio é {r}.\")\n",
    "print(f\"O volume do cilindro é {volume} u.v.\")"
   ]
  },
  {
   "cell_type": "markdown",
   "metadata": {},
   "source": [
    "Similarmente, vamos, agora, calcular a área de um trapézio, dados os valores necessários.\n",
    "\n",
    "<img src='https://www.matematica.pt/images/faq/calcular-area-trapezio.png' width='300'>"
   ]
  },
  {
   "cell_type": "code",
   "execution_count": 4,
   "metadata": {},
   "outputs": [
    {
     "name": "stdout",
     "output_type": "stream",
     "text": [
      "Digite a altura do trapézio: 10\n",
      "Digite a base menor: 30\n",
      "Digite a base maior: 5\n",
      "A área do trapézio é: 175.0 u.a.\n"
     ]
    }
   ],
   "source": [
    "h = float(input(\"Digite a altura do trapézio: \"))\n",
    "b = float(input(\"Digite a base menor: \"))\n",
    "B = float(input(\"Digite a base maior: \"))\n",
    "\n",
    "area = (b + B)*h/2\n",
    "\n",
    "print(f\"A área do trapézio é: {area} u.a.\")"
   ]
  },
  {
   "cell_type": "markdown",
   "metadata": {},
   "source": [
    "Para praticar um pouco mais, vamos modificar os dados da lista a seguir utilizando a relação abaixo:\n",
    "\n",
    "$\\frac{X-\\overline{X}}{N}$, em que $\\overline{X}$ é a média dos valores e $N$ o total de items na lista\n",
    "\n",
    "\n",
    "[1, 2, 5, 6, 7, 10, 11, 15, 28, 19, 24, 55, 100, 101]"
   ]
  },
  {
   "cell_type": "code",
   "execution_count": 5,
   "metadata": {},
   "outputs": [
    {
     "name": "stdout",
     "output_type": "stream",
     "text": [
      "[-1.8877551020408163, -1.8163265306122447, -1.6020408163265305, -1.530612244897959, -1.4591836734693877, -1.2448979591836733, -1.173469387755102, -0.8877551020408162, 0.04081632653061235, -0.6020408163265305, -0.24489795918367335, 1.969387755102041, 5.183673469387755, 5.255102040816326]\n"
     ]
    }
   ],
   "source": [
    "lista_original = [1, 2, 5, 6, 7, 10, 11, 15, 28, 19, 24, 55, 100, 101]\n",
    "lista_modificada = []\n",
    "\n",
    "N = len(lista_original)\n",
    "media = sum(lista_original)/N\n",
    "\n",
    "for item in lista_original:\n",
    "    lista_modificada.append((item - media)/N)\n",
    "\n",
    "print(lista_modificada)"
   ]
  },
  {
   "cell_type": "code",
   "execution_count": 6,
   "metadata": {},
   "outputs": [
    {
     "data": {
      "text/plain": [
       "-1.8877551020408163"
      ]
     },
     "execution_count": 6,
     "metadata": {},
     "output_type": "execute_result"
    }
   ],
   "source": [
    "(1 - media)/N"
   ]
  },
  {
   "cell_type": "markdown",
   "metadata": {},
   "source": [
    "E se quisermos utilizar diversas vezes o mesmo trecho de código?\n",
    "\n",
    "Para isso podemos usar as **funções**\n",
    "\n",
    "Para definir uma função utilizamos a palavra `def`"
   ]
  },
  {
   "cell_type": "code",
   "execution_count": 9,
   "metadata": {},
   "outputs": [],
   "source": [
    "def nome_funcao(): \n",
    "    # to do\n",
    "    pass"
   ]
  },
  {
   "cell_type": "code",
   "execution_count": 10,
   "metadata": {},
   "outputs": [],
   "source": [
    "# def -> define a função\n",
    "\n",
    "def imprime_linhas():\n",
    "    print(\"Linha1\")\n",
    "    print(\"Linha2\")\n",
    "    print(\"Linha3\")"
   ]
  },
  {
   "cell_type": "markdown",
   "metadata": {},
   "source": [
    "E como eu faço para chamar a função?"
   ]
  },
  {
   "cell_type": "code",
   "execution_count": 11,
   "metadata": {},
   "outputs": [
    {
     "name": "stdout",
     "output_type": "stream",
     "text": [
      "Linha1\n",
      "Linha2\n",
      "Linha3\n"
     ]
    }
   ],
   "source": [
    "imprime_linhas()"
   ]
  },
  {
   "cell_type": "code",
   "execution_count": 12,
   "metadata": {},
   "outputs": [
    {
     "name": "stdout",
     "output_type": "stream",
     "text": [
      "Linha1\n",
      "Linha2\n",
      "Linha3\n"
     ]
    }
   ],
   "source": [
    "print(\"Linha1\")\n",
    "print(\"Linha2\")\n",
    "print(\"Linha3\")"
   ]
  },
  {
   "cell_type": "code",
   "execution_count": 13,
   "metadata": {},
   "outputs": [],
   "source": [
    "# E no nosso exemplo do volume do cilindro?\n",
    "\n",
    "def volume_cilindro(): # função para calcular o volume do cilindro\n",
    "    h = float(input(\"Digite a altura: \"))\n",
    "    r = float(input(\"Digite o raio: \"))\n",
    "\n",
    "    volume = 3.14 * (r**2) * h\n",
    "\n",
    "    print(f\"A altura é {h} e o raio é {r}.\")\n",
    "    print(f\"O volume do cilindro é {volume} u.v.\")"
   ]
  },
  {
   "cell_type": "code",
   "execution_count": 14,
   "metadata": {},
   "outputs": [
    {
     "name": "stdout",
     "output_type": "stream",
     "text": [
      "Digite a altura: 8\n",
      "Digite o raio: 5\n",
      "A altura é 8.0 e o raio é 5.0.\n",
      "O volume do cilindro é 628.0 u.v.\n"
     ]
    }
   ],
   "source": [
    "volume_cilindro()"
   ]
  },
  {
   "cell_type": "markdown",
   "metadata": {},
   "source": [
    "**Exercício:** transforme os trechos de código que escrevemos anteriormanete, da área do trapézio e da operação com a lista, em funções. O que precisa ser adaptado?"
   ]
  },
  {
   "cell_type": "code",
   "execution_count": null,
   "metadata": {},
   "outputs": [],
   "source": []
  },
  {
   "cell_type": "markdown",
   "metadata": {},
   "source": [
    "### Parâmetros da função"
   ]
  },
  {
   "cell_type": "code",
   "execution_count": 15,
   "metadata": {},
   "outputs": [],
   "source": [
    "# Os parênteses servem para definirmos parâmetros para a função\n",
    "# Os parâmetros são os valores que servem de \"entrada\" para a função, a partir dos quais alguma operação\n",
    "# será executada\n",
    "# Diz-se que o parâmetro é recebido pela função\n",
    "\n",
    "def bom_dia(nome):\n",
    "    print(f\"Bom dia, {nome}\")"
   ]
  },
  {
   "cell_type": "code",
   "execution_count": 16,
   "metadata": {},
   "outputs": [
    {
     "name": "stdout",
     "output_type": "stream",
     "text": [
      "Bom dia, Carlos\n"
     ]
    }
   ],
   "source": [
    "bom_dia(\"Carlos\")"
   ]
  },
  {
   "cell_type": "code",
   "execution_count": 17,
   "metadata": {},
   "outputs": [
    {
     "name": "stdout",
     "output_type": "stream",
     "text": [
      "Bom dia, Rafael\n"
     ]
    }
   ],
   "source": [
    "bom_dia(\"Rafael\")"
   ]
  },
  {
   "cell_type": "code",
   "execution_count": 18,
   "metadata": {},
   "outputs": [
    {
     "name": "stdout",
     "output_type": "stream",
     "text": [
      "Digite seu nome: Kosnetsova\n",
      "Bom dia, Kosnetsova\n"
     ]
    }
   ],
   "source": [
    "nome = input(\"Digite seu nome: \")\n",
    "\n",
    "bom_dia(nome)"
   ]
  },
  {
   "cell_type": "code",
   "execution_count": 19,
   "metadata": {},
   "outputs": [],
   "source": [
    "def bom_dia(nome):\n",
    "    nome = 'Carlos'\n",
    "    print(f\"Bom dia, {nome}\")"
   ]
  },
  {
   "cell_type": "code",
   "execution_count": 20,
   "metadata": {},
   "outputs": [
    {
     "name": "stdout",
     "output_type": "stream",
     "text": [
      "Bom dia, Carlos\n"
     ]
    }
   ],
   "source": [
    "bom_dia(\"Carlos\")"
   ]
  },
  {
   "cell_type": "code",
   "execution_count": 22,
   "metadata": {},
   "outputs": [
    {
     "name": "stdout",
     "output_type": "stream",
     "text": [
      "Bom dia, Carlos\n"
     ]
    }
   ],
   "source": [
    "nome = \"Kosnetsova\"\n",
    "bom_dia(nome)"
   ]
  },
  {
   "cell_type": "code",
   "execution_count": 24,
   "metadata": {},
   "outputs": [],
   "source": [
    "def bom_dia(nome):\n",
    "    print(f\"Bom dia, {nome}\")"
   ]
  },
  {
   "cell_type": "code",
   "execution_count": 26,
   "metadata": {},
   "outputs": [],
   "source": [
    "def soma(a,b):\n",
    "    soma = a + b\n",
    "    return soma"
   ]
  },
  {
   "cell_type": "code",
   "execution_count": 27,
   "metadata": {},
   "outputs": [
    {
     "data": {
      "text/plain": [
       "5"
      ]
     },
     "execution_count": 27,
     "metadata": {},
     "output_type": "execute_result"
    }
   ],
   "source": [
    "soma(2,3)"
   ]
  },
  {
   "cell_type": "code",
   "execution_count": 28,
   "metadata": {},
   "outputs": [
    {
     "name": "stdout",
     "output_type": "stream",
     "text": [
      "O resultado da soma é 5\n"
     ]
    }
   ],
   "source": [
    "resultado = soma(2,3)\n",
    "print(f\"O resultado da soma é {resultado}\")"
   ]
  },
  {
   "cell_type": "code",
   "execution_count": 29,
   "metadata": {},
   "outputs": [
    {
     "ename": "TypeError",
     "evalue": "can only concatenate str (not \"int\") to str",
     "output_type": "error",
     "traceback": [
      "\u001b[1;31m---------------------------------------------------------------------------\u001b[0m",
      "\u001b[1;31mTypeError\u001b[0m                                 Traceback (most recent call last)",
      "\u001b[1;32m<ipython-input-29-9ece92568377>\u001b[0m in \u001b[0;36m<module>\u001b[1;34m\u001b[0m\n\u001b[1;32m----> 1\u001b[1;33m \u001b[0msoma\u001b[0m\u001b[1;33m(\u001b[0m\u001b[1;34m'oi'\u001b[0m\u001b[1;33m,\u001b[0m \u001b[1;36m2\u001b[0m\u001b[1;33m)\u001b[0m\u001b[1;33m\u001b[0m\u001b[1;33m\u001b[0m\u001b[0m\n\u001b[0m",
      "\u001b[1;32m<ipython-input-26-b1e0e6db1d60>\u001b[0m in \u001b[0;36msoma\u001b[1;34m(a, b)\u001b[0m\n\u001b[0;32m      1\u001b[0m \u001b[1;32mdef\u001b[0m \u001b[0msoma\u001b[0m\u001b[1;33m(\u001b[0m\u001b[0ma\u001b[0m\u001b[1;33m,\u001b[0m\u001b[0mb\u001b[0m\u001b[1;33m)\u001b[0m\u001b[1;33m:\u001b[0m\u001b[1;33m\u001b[0m\u001b[1;33m\u001b[0m\u001b[0m\n\u001b[1;32m----> 2\u001b[1;33m     \u001b[0msoma\u001b[0m \u001b[1;33m=\u001b[0m \u001b[0ma\u001b[0m \u001b[1;33m+\u001b[0m \u001b[0mb\u001b[0m\u001b[1;33m\u001b[0m\u001b[1;33m\u001b[0m\u001b[0m\n\u001b[0m\u001b[0;32m      3\u001b[0m     \u001b[1;32mreturn\u001b[0m \u001b[0msoma\u001b[0m\u001b[1;33m\u001b[0m\u001b[1;33m\u001b[0m\u001b[0m\n",
      "\u001b[1;31mTypeError\u001b[0m: can only concatenate str (not \"int\") to str"
     ]
    }
   ],
   "source": [
    "soma('oi', 2)"
   ]
  },
  {
   "cell_type": "code",
   "execution_count": 30,
   "metadata": {},
   "outputs": [],
   "source": [
    "def soma(a: float, b: float):\n",
    "    return a + b"
   ]
  },
  {
   "cell_type": "code",
   "execution_count": 32,
   "metadata": {},
   "outputs": [
    {
     "ename": "TypeError",
     "evalue": "can only concatenate str (not \"int\") to str",
     "output_type": "error",
     "traceback": [
      "\u001b[1;31m---------------------------------------------------------------------------\u001b[0m",
      "\u001b[1;31mTypeError\u001b[0m                                 Traceback (most recent call last)",
      "\u001b[1;32m<ipython-input-32-efd459ad1d59>\u001b[0m in \u001b[0;36m<module>\u001b[1;34m\u001b[0m\n\u001b[1;32m----> 1\u001b[1;33m \u001b[0msoma\u001b[0m\u001b[1;33m(\u001b[0m\u001b[1;34m'oi'\u001b[0m\u001b[1;33m,\u001b[0m\u001b[1;36m3\u001b[0m\u001b[1;33m)\u001b[0m\u001b[1;33m\u001b[0m\u001b[1;33m\u001b[0m\u001b[0m\n\u001b[0m",
      "\u001b[1;32m<ipython-input-30-ed19bdfea94e>\u001b[0m in \u001b[0;36msoma\u001b[1;34m(a, b)\u001b[0m\n\u001b[0;32m      1\u001b[0m \u001b[1;32mdef\u001b[0m \u001b[0msoma\u001b[0m\u001b[1;33m(\u001b[0m\u001b[0ma\u001b[0m\u001b[1;33m:\u001b[0m \u001b[0mfloat\u001b[0m\u001b[1;33m,\u001b[0m \u001b[0mb\u001b[0m\u001b[1;33m:\u001b[0m \u001b[0mfloat\u001b[0m\u001b[1;33m)\u001b[0m\u001b[1;33m:\u001b[0m\u001b[1;33m\u001b[0m\u001b[1;33m\u001b[0m\u001b[0m\n\u001b[1;32m----> 2\u001b[1;33m     \u001b[1;32mreturn\u001b[0m \u001b[0ma\u001b[0m \u001b[1;33m+\u001b[0m \u001b[0mb\u001b[0m\u001b[1;33m\u001b[0m\u001b[1;33m\u001b[0m\u001b[0m\n\u001b[0m",
      "\u001b[1;31mTypeError\u001b[0m: can only concatenate str (not \"int\") to str"
     ]
    }
   ],
   "source": [
    "soma('oi',3)"
   ]
  },
  {
   "cell_type": "code",
   "execution_count": 33,
   "metadata": {},
   "outputs": [
    {
     "data": {
      "text/plain": [
       "'oi3'"
      ]
     },
     "execution_count": 33,
     "metadata": {},
     "output_type": "execute_result"
    }
   ],
   "source": [
    "soma('oi','3')"
   ]
  },
  {
   "cell_type": "code",
   "execution_count": 34,
   "metadata": {},
   "outputs": [],
   "source": [
    "# Podemos solicitar mais de um parâmetro\n",
    "\n",
    "def cadastro(nome, idade, cidade):\n",
    "    print(nome, 'tem', idade, 'anos e mora em', cidade)"
   ]
  },
  {
   "cell_type": "code",
   "execution_count": 36,
   "metadata": {},
   "outputs": [
    {
     "name": "stdout",
     "output_type": "stream",
     "text": [
      "Carlos tem 32 anos e mora em Sorocaba\n"
     ]
    }
   ],
   "source": [
    "cadastro(\"Carlos\", 32, \"Sorocaba\")"
   ]
  },
  {
   "cell_type": "code",
   "execution_count": 37,
   "metadata": {},
   "outputs": [
    {
     "name": "stdout",
     "output_type": "stream",
     "text": [
      "João tem 48 anos e mora em Brasília\n"
     ]
    }
   ],
   "source": [
    "cadastro(\"João\", 48, \"Brasília\")"
   ]
  },
  {
   "cell_type": "code",
   "execution_count": 38,
   "metadata": {},
   "outputs": [
    {
     "name": "stdout",
     "output_type": "stream",
     "text": [
      "André tem 40 anos e mora em Timbó\n"
     ]
    }
   ],
   "source": [
    "cadastro(\"André\", 40, \"Timbó\")"
   ]
  },
  {
   "cell_type": "code",
   "execution_count": 39,
   "metadata": {},
   "outputs": [
    {
     "name": "stdout",
     "output_type": "stream",
     "text": [
      "Rafael tem 37 anos e mora em Salvador\n"
     ]
    }
   ],
   "source": [
    "cadastro(\"Rafael\", 37, \"Salvador\")"
   ]
  },
  {
   "cell_type": "code",
   "execution_count": 40,
   "metadata": {},
   "outputs": [
    {
     "name": "stdout",
     "output_type": "stream",
     "text": [
      "Fernanda tem 22 anos e mora em Pelotas\n"
     ]
    }
   ],
   "source": [
    "cadastro(\"Fernanda\", 22, \"Pelotas\")"
   ]
  },
  {
   "cell_type": "code",
   "execution_count": 44,
   "metadata": {},
   "outputs": [
    {
     "name": "stdout",
     "output_type": "stream",
     "text": [
      "Fernanda tem 22 anos e mora em Pelotas\n",
      "Fernanda tem 22 anos e mora em Pelotas\n",
      "Fernanda tem 22 anos e mora em Pelotas\n"
     ]
    }
   ],
   "source": [
    "cadastro(\"Fernanda\", 22, \"Pelotas\") # precisamos passar os parâmetros na mesma ordem de definição da função\n",
    "cadastro(idade=22, cidade=\"Pelotas\", nome=\"Fernanda\") # posso alterar a ordem desde que especifique os parâmetros\n",
    "cadastro(nome=\"Fernanda\", idade = 22, cidade=\"Pelotas\")"
   ]
  },
  {
   "cell_type": "code",
   "execution_count": 45,
   "metadata": {},
   "outputs": [
    {
     "name": "stdout",
     "output_type": "stream",
     "text": [
      "22 tem Fernanda anos e mora em Pelotas\n"
     ]
    }
   ],
   "source": [
    "cadastro(22, \"Fernanda\", \"Pelotas\")"
   ]
  },
  {
   "cell_type": "code",
   "execution_count": 47,
   "metadata": {},
   "outputs": [
    {
     "ename": "SyntaxError",
     "evalue": "positional argument follows keyword argument (<ipython-input-47-2c9111a09eb7>, line 1)",
     "output_type": "error",
     "traceback": [
      "\u001b[1;36m  File \u001b[1;32m\"<ipython-input-47-2c9111a09eb7>\"\u001b[1;36m, line \u001b[1;32m1\u001b[0m\n\u001b[1;33m    cadastro(nome=\"Fernanda\", 22, \"Pelotas\")\u001b[0m\n\u001b[1;37m                              ^\u001b[0m\n\u001b[1;31mSyntaxError\u001b[0m\u001b[1;31m:\u001b[0m positional argument follows keyword argument\n"
     ]
    }
   ],
   "source": [
    "cadastro(nome=\"Fernanda\", 22, \"Pelotas\")"
   ]
  },
  {
   "cell_type": "code",
   "execution_count": 48,
   "metadata": {},
   "outputs": [
    {
     "name": "stdout",
     "output_type": "stream",
     "text": [
      "Fernanda tem 22 anos e mora em Pelotas\n"
     ]
    }
   ],
   "source": [
    "cadastro(\"Fernanda\", cidade = \"Pelotas\", idade = 22)"
   ]
  },
  {
   "cell_type": "code",
   "execution_count": 49,
   "metadata": {},
   "outputs": [
    {
     "ename": "TypeError",
     "evalue": "cadastro() got multiple values for argument 'nome'",
     "output_type": "error",
     "traceback": [
      "\u001b[1;31m---------------------------------------------------------------------------\u001b[0m",
      "\u001b[1;31mTypeError\u001b[0m                                 Traceback (most recent call last)",
      "\u001b[1;32m<ipython-input-49-90e21638c83f>\u001b[0m in \u001b[0;36m<module>\u001b[1;34m\u001b[0m\n\u001b[1;32m----> 1\u001b[1;33m \u001b[0mcadastro\u001b[0m\u001b[1;33m(\u001b[0m\u001b[1;36m22\u001b[0m\u001b[1;33m,\u001b[0m \u001b[0mnome\u001b[0m\u001b[1;33m=\u001b[0m\u001b[1;34m\"Fernanda\"\u001b[0m\u001b[1;33m,\u001b[0m \u001b[0mcidade\u001b[0m \u001b[1;33m=\u001b[0m \u001b[1;34m\"Pelotas\"\u001b[0m\u001b[1;33m)\u001b[0m\u001b[1;33m\u001b[0m\u001b[1;33m\u001b[0m\u001b[0m\n\u001b[0m",
      "\u001b[1;31mTypeError\u001b[0m: cadastro() got multiple values for argument 'nome'"
     ]
    }
   ],
   "source": [
    "cadastro(22, nome=\"Fernanda\", cidade = \"Pelotas\")"
   ]
  },
  {
   "cell_type": "code",
   "execution_count": 50,
   "metadata": {},
   "outputs": [
    {
     "name": "stdout",
     "output_type": "stream",
     "text": [
      "Fernanda tem 22 anos e mora em Pelotas\n"
     ]
    }
   ],
   "source": [
    "var_cadastro = cadastro(\"Fernanda\", cidade = \"Pelotas\", idade = 22)"
   ]
  },
  {
   "cell_type": "code",
   "execution_count": 51,
   "metadata": {},
   "outputs": [
    {
     "name": "stdout",
     "output_type": "stream",
     "text": [
      "None\n"
     ]
    }
   ],
   "source": [
    "print(var_cadastro)"
   ]
  },
  {
   "cell_type": "code",
   "execution_count": 52,
   "metadata": {},
   "outputs": [
    {
     "data": {
      "text/plain": [
       "NoneType"
      ]
     },
     "execution_count": 52,
     "metadata": {},
     "output_type": "execute_result"
    }
   ],
   "source": [
    "type(var_cadastro)"
   ]
  },
  {
   "cell_type": "markdown",
   "metadata": {},
   "source": [
    "### Return"
   ]
  },
  {
   "cell_type": "markdown",
   "metadata": {},
   "source": [
    "Até o momento, exploramos funções que, essencialmente, imprimiam uma mensagem ou valor no console para o usuário. Podemos, também, **retornar** valores de saída da função, para que sejam utilizados no restante do código."
   ]
  },
  {
   "cell_type": "code",
   "execution_count": null,
   "metadata": {},
   "outputs": [],
   "source": [
    "def nome_funcao():\n",
    "    return # retorna um valor da função"
   ]
  },
  {
   "cell_type": "code",
   "execution_count": 53,
   "metadata": {},
   "outputs": [],
   "source": [
    "# Vamos fazer uma função que retorne a soma dos elementos de uma lista\n",
    "\n",
    "def somatorio_lista(lista):\n",
    "    soma = 0 # inicializamos a soma em 0\n",
    "    for item in lista:\n",
    "        soma += item # soma = soma + item\n",
    "    return soma"
   ]
  },
  {
   "cell_type": "code",
   "execution_count": 54,
   "metadata": {},
   "outputs": [],
   "source": [
    "lista = [1, 3, 6, 87, 8, -6]"
   ]
  },
  {
   "cell_type": "code",
   "execution_count": 55,
   "metadata": {},
   "outputs": [
    {
     "data": {
      "text/plain": [
       "99"
      ]
     },
     "execution_count": 55,
     "metadata": {},
     "output_type": "execute_result"
    }
   ],
   "source": [
    "somatorio_lista(lista)"
   ]
  },
  {
   "cell_type": "code",
   "execution_count": 56,
   "metadata": {},
   "outputs": [
    {
     "data": {
      "text/plain": [
       "99"
      ]
     },
     "execution_count": 56,
     "metadata": {},
     "output_type": "execute_result"
    }
   ],
   "source": [
    "sum(lista)"
   ]
  },
  {
   "cell_type": "code",
   "execution_count": 57,
   "metadata": {},
   "outputs": [],
   "source": [
    "def somatorio_lista(lista):\n",
    "    soma = 0 # inicializamos a soma em 0\n",
    "    for item in lista:\n",
    "        soma += item # soma = soma + item"
   ]
  },
  {
   "cell_type": "code",
   "execution_count": 59,
   "metadata": {},
   "outputs": [],
   "source": [
    "soma = somatorio_lista(lista) # função não tinha return"
   ]
  },
  {
   "cell_type": "code",
   "execution_count": 60,
   "metadata": {},
   "outputs": [
    {
     "name": "stdout",
     "output_type": "stream",
     "text": [
      "None\n"
     ]
    }
   ],
   "source": [
    "print(soma)"
   ]
  },
  {
   "cell_type": "code",
   "execution_count": 61,
   "metadata": {},
   "outputs": [],
   "source": [
    "# Verificar se uma pessoa é maior de idade\n",
    "\n",
    "def maior_idade(idade):\n",
    "    if idade >= 18:\n",
    "        print(\"É maior de idade.\")\n",
    "        return True\n",
    "    else:\n",
    "        print(\"É menor de idade.\")\n",
    "        return False"
   ]
  },
  {
   "cell_type": "code",
   "execution_count": 63,
   "metadata": {},
   "outputs": [
    {
     "name": "stdout",
     "output_type": "stream",
     "text": [
      "É maior de idade.\n"
     ]
    }
   ],
   "source": [
    "resultado = maior_idade(85)"
   ]
  },
  {
   "cell_type": "code",
   "execution_count": 64,
   "metadata": {},
   "outputs": [
    {
     "data": {
      "text/plain": [
       "True"
      ]
     },
     "execution_count": 64,
     "metadata": {},
     "output_type": "execute_result"
    }
   ],
   "source": [
    "resultado"
   ]
  },
  {
   "cell_type": "code",
   "execution_count": 65,
   "metadata": {},
   "outputs": [
    {
     "name": "stdout",
     "output_type": "stream",
     "text": [
      "É menor de idade.\n"
     ]
    },
    {
     "data": {
      "text/plain": [
       "False"
      ]
     },
     "execution_count": 65,
     "metadata": {},
     "output_type": "execute_result"
    }
   ],
   "source": [
    "maior_idade(15)"
   ]
  },
  {
   "cell_type": "markdown",
   "metadata": {},
   "source": [
    "### Funções Recursivas\n",
    "\n",
    "Quando escrevemos funções, podemos trabahar com duas estratégias principais: **iterativa** e **recursiva**. Ambos os termos referem-se a dois tipos diferentes de estrutura de código que executarm uma série de instruções sequenciais de forma repetida.\n",
    "\n",
    "#### O que é iteração?\n",
    "Esse é o tipo de código que temos estudado até o momento!\n",
    "\n",
    "O código é estruturado em laços (`loops`) de repetição que executam uma série de instruções. Em outras palavras, a iteração utiliza de **estruturas de repetição**.\n",
    "\n",
    "Para relembrar essa estrutura de código, vamos pensar num algoritmo que irá pegar um livro baseado em uma pilha de livros. Nosso objeto é achar o livro de interesse. Assim, começamos por pegar um livro de cada vez e verificamos uma dada condição (i.e., se é o livro que procuramos). Se encontramos o livro, finalizamos o nosso trabalho; caso contrário, continuamos a procurar o livro um por um até o último livro da pilha.\n",
    "\n",
    "O pseudocódigo seria:\n",
    "- Contrua uma pilha de livros a ser procurado\n",
    "- Enquanto houver livros não vasculhados:\n",
    "  - Pegue um livro:\n",
    "    - Se o livro não for o livro de interesse, remova da pilha\n",
    "    - Se o livro for de interesse, finalizamos o trabalho\n",
    "  - Volte para a pilha de livros\n",
    "\n",
    "Um possível código seria:"
   ]
  },
  {
   "cell_type": "code",
   "execution_count": 67,
   "metadata": {},
   "outputs": [
    {
     "data": {
      "text/plain": [
       "5"
      ]
     },
     "execution_count": 67,
     "metadata": {},
     "output_type": "execute_result"
    }
   ],
   "source": [
    "l = [1, 2, 3, 4, 5]\n",
    "l.pop()"
   ]
  },
  {
   "cell_type": "code",
   "execution_count": 68,
   "metadata": {},
   "outputs": [
    {
     "data": {
      "text/plain": [
       "[1, 2, 3, 4]"
      ]
     },
     "execution_count": 68,
     "metadata": {},
     "output_type": "execute_result"
    }
   ],
   "source": [
    "l"
   ]
  },
  {
   "cell_type": "code",
   "execution_count": 100,
   "metadata": {},
   "outputs": [],
   "source": [
    "pilha_de_livros = [\"Empodere-se\", \"A menina que roubava livros\", \"O Rei do Inverno\", \"São Bernardo\"]\n",
    "\n",
    "livro_de_interesse = \"O Rei do Inverno\""
   ]
  },
  {
   "cell_type": "code",
   "execution_count": 98,
   "metadata": {},
   "outputs": [],
   "source": [
    "def ache_livro_iterativo(pilha_de_livros, livro_de_interesse):\n",
    "    tamanho_pilha = len(pilha_de_livros)\n",
    "    pilha_de_livros_busca = pilha_de_livros[::] # fazer uma cópia da lista\n",
    "    \n",
    "    while pilha_de_livros_busca:\n",
    "        livro = pilha_de_livros_busca.pop() # pegamos o \"último livro da pilha\"\n",
    "        \n",
    "        print(\"Tamanho da pilha original: \", tamanho_pilha)\n",
    "        print(\"Tamanho da pilha de busca: \", len(pilha_de_livros_busca))\n",
    "        print(\"Analisando o livro: \", livro)\n",
    "        \n",
    "        if livro == livro_de_interesse:\n",
    "            print(\"Livro encontrado.\")\n",
    "            return livro_de_interesse\n",
    "        else:\n",
    "            print(\"Continuando a busca\")\n",
    "        print(\"=\"*30)\n",
    "        \n",
    "    return \"Livro não encontrado\""
   ]
  },
  {
   "cell_type": "code",
   "execution_count": 101,
   "metadata": {},
   "outputs": [
    {
     "name": "stdout",
     "output_type": "stream",
     "text": [
      "Tamanho da pilha original:  4\n",
      "Tamanho da pilha de busca:  3\n",
      "Analisando o livro:  São Bernardo\n",
      "Continuando a busca\n",
      "==============================\n",
      "Tamanho da pilha original:  4\n",
      "Tamanho da pilha de busca:  2\n",
      "Analisando o livro:  O Rei do Inverno\n",
      "Livro encontrado.\n"
     ]
    },
    {
     "data": {
      "text/plain": [
       "'O Rei do Inverno'"
      ]
     },
     "execution_count": 101,
     "metadata": {},
     "output_type": "execute_result"
    }
   ],
   "source": [
    "ache_livro_iterativo([\"Empodere-se\", \"A menina que roubava livros\", \"O Rei do Inverno\", \"São Bernardo\"],\n",
    "                    \"O Rei do Inverno\")"
   ]
  },
  {
   "cell_type": "code",
   "execution_count": 83,
   "metadata": {},
   "outputs": [],
   "source": [
    "def retira_da_lista(lista2):\n",
    "    lista2.pop()\n",
    "    return lista2"
   ]
  },
  {
   "cell_type": "code",
   "execution_count": 84,
   "metadata": {},
   "outputs": [],
   "source": [
    "lista = [1, 2, 3]"
   ]
  },
  {
   "cell_type": "code",
   "execution_count": 85,
   "metadata": {},
   "outputs": [
    {
     "data": {
      "text/plain": [
       "[1, 2]"
      ]
     },
     "execution_count": 85,
     "metadata": {},
     "output_type": "execute_result"
    }
   ],
   "source": [
    "retira_da_lista(lista)"
   ]
  },
  {
   "cell_type": "code",
   "execution_count": 86,
   "metadata": {},
   "outputs": [
    {
     "data": {
      "text/plain": [
       "[1, 2]"
      ]
     },
     "execution_count": 86,
     "metadata": {},
     "output_type": "execute_result"
    }
   ],
   "source": [
    "lista"
   ]
  },
  {
   "cell_type": "code",
   "execution_count": 88,
   "metadata": {},
   "outputs": [
    {
     "name": "stdout",
     "output_type": "stream",
     "text": [
      "Lista antes da chamada da função: [1, 2, 3]\n",
      "A lista é: [1, 2]\n"
     ]
    }
   ],
   "source": [
    "lista = [1, 2, 3]\n",
    "print(f\"Lista antes da chamada da função: {lista}\")\n",
    "retira_da_lista(lista)\n",
    "\n",
    "print(f\"A lista é: {lista}\")"
   ]
  },
  {
   "cell_type": "code",
   "execution_count": 92,
   "metadata": {},
   "outputs": [],
   "source": [
    "def altera_var(a):\n",
    "    a = 5\n",
    "    return a"
   ]
  },
  {
   "cell_type": "code",
   "execution_count": 93,
   "metadata": {},
   "outputs": [
    {
     "name": "stdout",
     "output_type": "stream",
     "text": [
      "A variável a vale 2\n",
      "Após a função, o valor da variável é 2\n"
     ]
    }
   ],
   "source": [
    "a = 2\n",
    "print(f\"A variável a vale {a}\")\n",
    "altera_var(a)\n",
    "print(f\"Após a função, o valor da variável é {a}\")"
   ]
  },
  {
   "cell_type": "code",
   "execution_count": 77,
   "metadata": {},
   "outputs": [
    {
     "data": {
      "text/plain": [
       "2"
      ]
     },
     "execution_count": 77,
     "metadata": {},
     "output_type": "execute_result"
    }
   ],
   "source": [
    "a"
   ]
  },
  {
   "cell_type": "markdown",
   "metadata": {},
   "source": [
    "Nesse caso temos uma busca linear (o `while`) e podemos perceber que no pior caso, o livro de interesse não está presente na pilha, iremos percorrer todos os livros. Esse é um dos motivos de programas iterativos serem de fácil análise de algoritmo, no caso linear.\n",
    "\n",
    "#### Recursão \n",
    "De primeira vista, a recursão pode parecer difícil de entender. \n",
    "\n",
    "De acordo com o dicionário, recrusão é: \"Propriedade de função, programa ou afim que se pode invocar a si próprio.\". Ou seja, a recursão ocorre quando uma função chama ela mesma no programa.  Qualquer função que faz a sua própria chamada é conhecida como função recursiva.\n",
    "\n",
    "Porém para evitar uma recursão infinita, a função precisa de **um caso base**. A função recursiva termina uma vez que a condição base é identificada.\n",
    "\n",
    "Voltando para o problema dos livros, podemos reescrevê-lo de forma recursiva!"
   ]
  },
  {
   "cell_type": "code",
   "execution_count": 107,
   "metadata": {},
   "outputs": [],
   "source": [
    "def ache_livro_recursivo(pilha_de_livros, livro_de_interesse):\n",
    "    tamanho_pilha = len(pilha_de_livros)\n",
    "    pilha_de_livros_busca = pilha_de_livros[::] # fazer uma cópia da lista\n",
    "    \n",
    "    print(\"=\"*30)\n",
    "    \n",
    "    if len(pilha_de_livros_busca) == 0: # equivalente ao caso de \"False\" do while anterior\n",
    "        print(\"O livro não foi encontrado!\")\n",
    "        return \"Livro não encontrado\"\n",
    "   \n",
    "    livro = pilha_de_livros_busca.pop() # pegamos o \"último livro da pilha\"\n",
    "    print(f\"Livro atual: {livro}\")\n",
    "    print(f\"Livro que estamos buscando: {livro_de_interesse}\")\n",
    "    print(f\"Pilha atual: {pilha_de_livros_busca}\")\n",
    "    \n",
    "    if livro == livro_de_interesse:\n",
    "        return livro\n",
    "    else:\n",
    "        ache_livro_recursivo(pilha_de_livros_busca, livro_de_interesse)"
   ]
  },
  {
   "cell_type": "code",
   "execution_count": 103,
   "metadata": {},
   "outputs": [
    {
     "name": "stdout",
     "output_type": "stream",
     "text": [
      "==============================\n",
      "Livro atual: São Bernardo\n",
      "Livro que estamos buscando: O Rei do Inverno\n",
      "Pilha atual: ['Empodere-se', 'A menina que roubava livros', 'O Rei do Inverno']\n",
      "==============================\n",
      "Livro atual: O Rei do Inverno\n",
      "Livro que estamos buscando: O Rei do Inverno\n",
      "Pilha atual: ['Empodere-se', 'A menina que roubava livros']\n"
     ]
    }
   ],
   "source": [
    "ache_livro_recursivo(pilha_de_livros, livro_de_interesse)"
   ]
  },
  {
   "cell_type": "code",
   "execution_count": 108,
   "metadata": {},
   "outputs": [
    {
     "name": "stdout",
     "output_type": "stream",
     "text": [
      "==============================\n",
      "Livro atual: São Bernardo\n",
      "Livro que estamos buscando: Rei Leão\n",
      "Pilha atual: ['Empodere-se', 'A menina que roubava livros', 'O Rei do Inverno']\n",
      "==============================\n",
      "Livro atual: O Rei do Inverno\n",
      "Livro que estamos buscando: Rei Leão\n",
      "Pilha atual: ['Empodere-se', 'A menina que roubava livros']\n",
      "==============================\n",
      "Livro atual: A menina que roubava livros\n",
      "Livro que estamos buscando: Rei Leão\n",
      "Pilha atual: ['Empodere-se']\n",
      "==============================\n",
      "Livro atual: Empodere-se\n",
      "Livro que estamos buscando: Rei Leão\n",
      "Pilha atual: []\n",
      "==============================\n",
      "O livro não foi encontrado!\n"
     ]
    }
   ],
   "source": [
    "ache_livro_recursivo(pilha_de_livros, livro_de_interesse=\"Rei Leão\")"
   ]
  },
  {
   "cell_type": "markdown",
   "metadata": {},
   "source": [
    "___\n",
    "#### **Diferenças entre recursão e iteração**\n",
    "Implementação:\n",
    "- Recursiva: Implementada com uma função chamando ela mesma\n",
    "- Iterativa: Implementada utilizando laços\n",
    "\n",
    "Estado:\n",
    "- Recursiva: Definida por valores armazenadas em uma pilha\n",
    "- Iterativa: Definida por variáveis de controle\n",
    "\n",
    "Sintaxe:\n",
    "- Recursiva: Pelo menos uma condição de terminação é necessária\n",
    "- Iterativa: Inclui inicialização, condicionais, e incremento/decrescim das variáveis de controle\n",
    "\n",
    "Terminação\n",
    "- Recursiva: Condição definida no corpo da função\n",
    "- Iterativa: Definida dentro laço\n",
    "\n",
    "Tamanho do código:\n",
    "- Recursiva: Menor que iterativa\n",
    "- Iterativa: Maior\n",
    "\n",
    "Velocidade:\n",
    "- Recursiva: Mais devagar devido ao overhead de manter os stacks de função\n",
    "- Iterativa: Mais rápida\n",
    "\n",
    "Complexidade de tempo:\n",
    "- Recursiva: Maior compelxidade de tempo\n",
    "- Iterativa: Mais fácil de ser cálculada olhando os loops de execução. Em geral, apresentam menor complexidade de tempo\n",
    "\n",
    "Utilização de memória:\n",
    "- Recursiva: Mais memoria é requerida\n",
    "- Iterativa: Menos memoria é requerida.\n",
    "\n",
    "\n",
    "#### Quando utilizar recursão vs iteração?\n",
    "Essa é uma pergunta que assombra a maior parte das pessoas programadoras. A maior parte dos códigos podem ser escrita tanto de forma recursiva como iterativa. Entretanto, em alguns casos a recursão pode ser mais intuitiva que a iteração. Por exemplo, quando lidamos com estruturas de listas aninhadas (`nested`). \n",
    "\n",
    "Em problemas que temos grafos e/ou optimizações, as funções recursivas podem ser de mais fácil leitura e implementações. Isso ocorre por podemos utilizar o \"dividir para conquistar\" e programação dinâmica.\n",
    "\n",
    "\n",
    "\n",
    "Curiosidade:\n",
    "\n",
    "Em computadores que seguem a arquitetura de Von Neumann, a iteração sempre será mais rápida que a recursão!\n",
    "\n",
    "https://www.geeksforgeeks.org/computer-organization-von-neumann-architecture/\n",
    "\n",
    "Livros de referência:\n",
    "\n",
    "- https://www.amazon.com.br/Grokking-Algorithms-illustrated-programmers-curious/dp/1617292230\n",
    "\n",
    "- https://www.amazon.com.br/Introduction-Algorithms-Thomas-H-Cormen/dp/0262033844\n",
    "\n",
    "- https://www.amazon.com/Structures-Algorithms-Python-Michael-Goodrich/dp/1118290275"
   ]
  },
  {
   "cell_type": "markdown",
   "metadata": {},
   "source": [
    "Vamos escrever uma função que, dada uma lista de números, execute sua soma. Para praticar, vamos utilizar uma abordagem iterativa e outra recursiva:"
   ]
  },
  {
   "cell_type": "code",
   "execution_count": 109,
   "metadata": {},
   "outputs": [],
   "source": [
    "lista = [1, 2, 5, 6, 7, 10, 11, 15, 28, 19, 24, 55, 100, 101]"
   ]
  },
  {
   "cell_type": "code",
   "execution_count": 110,
   "metadata": {},
   "outputs": [],
   "source": [
    "# Abordagem iterativa\n",
    "def somatorio_lista(lista):\n",
    "    soma = 0\n",
    "    \n",
    "    for item in lista:\n",
    "        soma += item\n",
    "    return soma"
   ]
  },
  {
   "cell_type": "code",
   "execution_count": 111,
   "metadata": {},
   "outputs": [
    {
     "data": {
      "text/plain": [
       "384"
      ]
     },
     "execution_count": 111,
     "metadata": {},
     "output_type": "execute_result"
    }
   ],
   "source": [
    "somatorio_lista(lista)"
   ]
  },
  {
   "cell_type": "code",
   "execution_count": 112,
   "metadata": {},
   "outputs": [
    {
     "data": {
      "text/plain": [
       "384"
      ]
     },
     "execution_count": 112,
     "metadata": {},
     "output_type": "execute_result"
    }
   ],
   "source": [
    "sum(lista)"
   ]
  },
  {
   "cell_type": "code",
   "execution_count": 115,
   "metadata": {},
   "outputs": [],
   "source": [
    "# Abordagem recursiva\n",
    "def somatorio_lista_recursiva(lista):\n",
    "    # recursao\n",
    "    # criterio de parada\n",
    "    # repetição\n",
    "    \n",
    "    if len(lista) == 1:\n",
    "        return lista[0]\n",
    "    else:\n",
    "        return lista[0] + somatorio_lista_recursiva(lista[1:])\n",
    "\n",
    "# 1: [1, 2, 5, 6, 7, 10, 11, 15, 28, 19, 24, 55, 100, 101]\n",
    "# vai retornar 1 + somatorio_lista_recursiva([2, 5, 6, 7, 10, 11, 15, 28, 19, 24, 55, 100, 10])\n",
    "# 2: 1 + 2 + somatorio_lista_recursiva([5, 6, 7, 10, 11, 15, 28, 19, 24, 55, 100, 10]])"
   ]
  },
  {
   "cell_type": "code",
   "execution_count": 116,
   "metadata": {},
   "outputs": [],
   "source": [
    "# Abordagem recursiva\n",
    "def somatorio_lista_recursiva(lista):\n",
    "    # recursao\n",
    "    # criterio de parada\n",
    "    # repetição\n",
    "    \n",
    "    print(\"=\"*30)\n",
    "    print(f\"A lista está assim: {lista}\")\n",
    "    if len(lista) == 1:\n",
    "        return lista[0]\n",
    "    else:\n",
    "        print(f\"{lista[0]} + {lista[1:]}\")\n",
    "        return lista[0] + somatorio_lista_recursiva(lista[1:])\n"
   ]
  },
  {
   "cell_type": "code",
   "execution_count": 118,
   "metadata": {},
   "outputs": [
    {
     "data": {
      "text/plain": [
       "[1, 2, 5, 6, 7, 10, 11, 15, 28, 19, 24, 55, 100, 101]"
      ]
     },
     "execution_count": 118,
     "metadata": {},
     "output_type": "execute_result"
    }
   ],
   "source": [
    "lista"
   ]
  },
  {
   "cell_type": "code",
   "execution_count": 117,
   "metadata": {},
   "outputs": [
    {
     "name": "stdout",
     "output_type": "stream",
     "text": [
      "==============================\n",
      "A lista está assim: [1, 2, 5, 6, 7, 10, 11, 15, 28, 19, 24, 55, 100, 101]\n",
      "1 + [2, 5, 6, 7, 10, 11, 15, 28, 19, 24, 55, 100, 101]\n",
      "==============================\n",
      "A lista está assim: [2, 5, 6, 7, 10, 11, 15, 28, 19, 24, 55, 100, 101]\n",
      "2 + [5, 6, 7, 10, 11, 15, 28, 19, 24, 55, 100, 101]\n",
      "==============================\n",
      "A lista está assim: [5, 6, 7, 10, 11, 15, 28, 19, 24, 55, 100, 101]\n",
      "5 + [6, 7, 10, 11, 15, 28, 19, 24, 55, 100, 101]\n",
      "==============================\n",
      "A lista está assim: [6, 7, 10, 11, 15, 28, 19, 24, 55, 100, 101]\n",
      "6 + [7, 10, 11, 15, 28, 19, 24, 55, 100, 101]\n",
      "==============================\n",
      "A lista está assim: [7, 10, 11, 15, 28, 19, 24, 55, 100, 101]\n",
      "7 + [10, 11, 15, 28, 19, 24, 55, 100, 101]\n",
      "==============================\n",
      "A lista está assim: [10, 11, 15, 28, 19, 24, 55, 100, 101]\n",
      "10 + [11, 15, 28, 19, 24, 55, 100, 101]\n",
      "==============================\n",
      "A lista está assim: [11, 15, 28, 19, 24, 55, 100, 101]\n",
      "11 + [15, 28, 19, 24, 55, 100, 101]\n",
      "==============================\n",
      "A lista está assim: [15, 28, 19, 24, 55, 100, 101]\n",
      "15 + [28, 19, 24, 55, 100, 101]\n",
      "==============================\n",
      "A lista está assim: [28, 19, 24, 55, 100, 101]\n",
      "28 + [19, 24, 55, 100, 101]\n",
      "==============================\n",
      "A lista está assim: [19, 24, 55, 100, 101]\n",
      "19 + [24, 55, 100, 101]\n",
      "==============================\n",
      "A lista está assim: [24, 55, 100, 101]\n",
      "24 + [55, 100, 101]\n",
      "==============================\n",
      "A lista está assim: [55, 100, 101]\n",
      "55 + [100, 101]\n",
      "==============================\n",
      "A lista está assim: [100, 101]\n",
      "100 + [101]\n",
      "==============================\n",
      "A lista está assim: [101]\n"
     ]
    },
    {
     "data": {
      "text/plain": [
       "384"
      ]
     },
     "execution_count": 117,
     "metadata": {},
     "output_type": "execute_result"
    }
   ],
   "source": [
    "somatorio_lista_recursiva(lista)"
   ]
  },
  {
   "cell_type": "markdown",
   "metadata": {},
   "source": [
    "___"
   ]
  },
  {
   "cell_type": "markdown",
   "metadata": {},
   "source": [
    "## Tuplas"
   ]
  },
  {
   "cell_type": "markdown",
   "metadata": {},
   "source": [
    "Até o momento, temos utilizado **listas** pra armazenar uma coleção de dados.\n",
    "\n",
    "Aprenderemos agora sobre uma nova **estrutura de dados**: tuplas!\n",
    "\n",
    "Tuplas são estruturas bastante parecidas com listas:\n",
    "\n",
    "- Podem guardar **tipos diferentes de dados**.\n",
    "- São indexadas (podemos **acessar elementos por índices**).\n",
    "- São iteráveis (**podemos percorrer com o `for`**)."
   ]
  },
  {
   "cell_type": "code",
   "execution_count": 119,
   "metadata": {},
   "outputs": [
    {
     "name": "stdout",
     "output_type": "stream",
     "text": [
      "()\n"
     ]
    }
   ],
   "source": [
    "# Criando uma tupla vazia\n",
    "tupla1 = tuple() # Uma tupla vazia\n",
    "tupla2 = () # Outra tupla vazia\n",
    "print(tupla1)"
   ]
  },
  {
   "cell_type": "code",
   "execution_count": 120,
   "metadata": {},
   "outputs": [
    {
     "name": "stdout",
     "output_type": "stream",
     "text": [
      "('Python', 'SQL', 'R')\n"
     ]
    }
   ],
   "source": [
    "linguagens = ('Python', 'SQL', 'R') # tupla com diferentes elementos\n",
    "print(linguagens)"
   ]
  },
  {
   "cell_type": "code",
   "execution_count": 121,
   "metadata": {},
   "outputs": [
    {
     "name": "stdout",
     "output_type": "stream",
     "text": [
      "(20, 2.17, False, 'Ana')\n"
     ]
    }
   ],
   "source": [
    "dados_variados = (20, 2.17, False, 'Ana') # Tupla com diferentes tipos\n",
    "print(dados_variados)"
   ]
  },
  {
   "cell_type": "code",
   "execution_count": 124,
   "metadata": {},
   "outputs": [
    {
     "ename": "TypeError",
     "evalue": "'tuple' object does not support item assignment",
     "output_type": "error",
     "traceback": [
      "\u001b[1;31m---------------------------------------------------------------------------\u001b[0m",
      "\u001b[1;31mTypeError\u001b[0m                                 Traceback (most recent call last)",
      "\u001b[1;32m<ipython-input-124-22268ffee00d>\u001b[0m in \u001b[0;36m<module>\u001b[1;34m\u001b[0m\n\u001b[1;32m----> 1\u001b[1;33m \u001b[0mlinguagens\u001b[0m\u001b[1;33m[\u001b[0m\u001b[1;36m0\u001b[0m\u001b[1;33m]\u001b[0m \u001b[1;33m=\u001b[0m \u001b[1;34m'C'\u001b[0m\u001b[1;33m\u001b[0m\u001b[1;33m\u001b[0m\u001b[0m\n\u001b[0m",
      "\u001b[1;31mTypeError\u001b[0m: 'tuple' object does not support item assignment"
     ]
    }
   ],
   "source": [
    "linguagens[0] = 'C' # não conseguimos mudar os valores da tupla"
   ]
  },
  {
   "cell_type": "code",
   "execution_count": 125,
   "metadata": {},
   "outputs": [
    {
     "name": "stdout",
     "output_type": "stream",
     "text": [
      "(1, 10, [2, 5, 6])\n"
     ]
    }
   ],
   "source": [
    "t = (1, 10, [2, 5, 6])\n",
    "print(t)"
   ]
  },
  {
   "cell_type": "code",
   "execution_count": 126,
   "metadata": {},
   "outputs": [
    {
     "data": {
      "text/plain": [
       "(1, 2, 3)"
      ]
     },
     "execution_count": 126,
     "metadata": {},
     "output_type": "execute_result"
    }
   ],
   "source": [
    "tuple([1, 2, 3]) # convertendo a lista para uma tupla"
   ]
  },
  {
   "cell_type": "code",
   "execution_count": 127,
   "metadata": {},
   "outputs": [],
   "source": [
    "# Tupla de tuplas\n",
    "tupla_de_tuplas =(\n",
    "    ('Curso', 'Módulo 1', 'Módulo 2'),\n",
    "    ('Data Science', 'Lógica de Programação I', 'Lógica de Programação II'),\n",
    "    ('Web Full Stack', 'Front End Estático', 'Front End Dinâmico')\n",
    ")"
   ]
  },
  {
   "cell_type": "code",
   "execution_count": 128,
   "metadata": {},
   "outputs": [
    {
     "name": "stdout",
     "output_type": "stream",
     "text": [
      "(('Curso', 'Módulo 1', 'Módulo 2'), ('Data Science', 'Lógica de Programação I', 'Lógica de Programação II'), ('Web Full Stack', 'Front End Estático', 'Front End Dinâmico'))\n"
     ]
    }
   ],
   "source": [
    "print(tupla_de_tuplas)"
   ]
  },
  {
   "cell_type": "code",
   "execution_count": 129,
   "metadata": {},
   "outputs": [
    {
     "data": {
      "text/plain": [
       "1"
      ]
     },
     "execution_count": 129,
     "metadata": {},
     "output_type": "execute_result"
    }
   ],
   "source": [
    "t[0]"
   ]
  },
  {
   "cell_type": "code",
   "execution_count": 131,
   "metadata": {},
   "outputs": [
    {
     "data": {
      "text/plain": [
       "(1, 10)"
      ]
     },
     "execution_count": 131,
     "metadata": {},
     "output_type": "execute_result"
    }
   ],
   "source": [
    "t[0:2]"
   ]
  },
  {
   "cell_type": "code",
   "execution_count": 132,
   "metadata": {},
   "outputs": [
    {
     "data": {
      "text/plain": [
       "('Web Full Stack', 'Front End Estático', 'Front End Dinâmico')"
      ]
     },
     "execution_count": 132,
     "metadata": {},
     "output_type": "execute_result"
    }
   ],
   "source": [
    "tupla_de_tuplas[2]"
   ]
  },
  {
   "cell_type": "code",
   "execution_count": 133,
   "metadata": {},
   "outputs": [
    {
     "data": {
      "text/plain": [
       "'Front End Dinâmico'"
      ]
     },
     "execution_count": 133,
     "metadata": {},
     "output_type": "execute_result"
    }
   ],
   "source": [
    "tupla_de_tuplas[2][2]"
   ]
  },
  {
   "cell_type": "markdown",
   "metadata": {},
   "source": [
    "**Loop do tipo `for`**"
   ]
  },
  {
   "cell_type": "code",
   "execution_count": 134,
   "metadata": {},
   "outputs": [
    {
     "name": "stdout",
     "output_type": "stream",
     "text": [
      "(('Curso', 'Módulo 1', 'Módulo 2'), ('Data Science', 'Lógica de Programação I', 'Lógica de Programação II'), ('Web Full Stack', 'Front End Estático', 'Front End Dinâmico'))\n"
     ]
    }
   ],
   "source": [
    "print(tupla_de_tuplas)"
   ]
  },
  {
   "cell_type": "code",
   "execution_count": 135,
   "metadata": {},
   "outputs": [
    {
     "name": "stdout",
     "output_type": "stream",
     "text": [
      "('Curso', 'Módulo 1', 'Módulo 2')\n",
      "('Data Science', 'Lógica de Programação I', 'Lógica de Programação II')\n",
      "('Web Full Stack', 'Front End Estático', 'Front End Dinâmico')\n"
     ]
    }
   ],
   "source": [
    "for tupla in tupla_de_tuplas:\n",
    "    print(tupla)"
   ]
  },
  {
   "cell_type": "markdown",
   "metadata": {},
   "source": [
    "**Fatiando (slicing) dados**"
   ]
  },
  {
   "cell_type": "code",
   "execution_count": 137,
   "metadata": {},
   "outputs": [
    {
     "data": {
      "text/plain": [
       "('Curso', 'Módulo 1', 'Módulo 2')"
      ]
     },
     "execution_count": 137,
     "metadata": {},
     "output_type": "execute_result"
    }
   ],
   "source": [
    "tupla_de_tuplas[0]"
   ]
  },
  {
   "cell_type": "code",
   "execution_count": 138,
   "metadata": {},
   "outputs": [
    {
     "data": {
      "text/plain": [
       "('Data Science', 'Lógica de Programação I', 'Lógica de Programação II')"
      ]
     },
     "execution_count": 138,
     "metadata": {},
     "output_type": "execute_result"
    }
   ],
   "source": [
    "tupla_de_tuplas[1]"
   ]
  },
  {
   "cell_type": "code",
   "execution_count": 141,
   "metadata": {},
   "outputs": [
    {
     "data": {
      "text/plain": [
       "('Lógica de Programação I', 'Lógica de Programação II')"
      ]
     },
     "execution_count": 141,
     "metadata": {},
     "output_type": "execute_result"
    }
   ],
   "source": [
    "tupla_de_tuplas[1][1:]"
   ]
  },
  {
   "cell_type": "markdown",
   "metadata": {},
   "source": [
    "Tuplas podem virar listas, e listas podem virar tuplas!"
   ]
  },
  {
   "cell_type": "code",
   "execution_count": 144,
   "metadata": {},
   "outputs": [
    {
     "name": "stdout",
     "output_type": "stream",
     "text": [
      "tipo: <class 'list'>\n",
      "conteudo: ['abacate', 'banana', 'maca']\n",
      "tipo: <class 'tuple'>\n",
      "conteudo: ('abacate', 'banana', 'maca')\n"
     ]
    }
   ],
   "source": [
    "listas_frutas = ['abacate', 'banana', 'maca']\n",
    "print(f\"tipo: {type(listas_frutas)}\\nconteudo: {listas_frutas}\")\n",
    "\n",
    "tupla_frutas = tuple(listas_frutas)\n",
    "print(f\"tipo: {type(tupla_frutas)}\\nconteudo: {tupla_frutas}\")"
   ]
  },
  {
   "cell_type": "code",
   "execution_count": 145,
   "metadata": {},
   "outputs": [
    {
     "data": {
      "text/plain": [
       "['abacaxi', 'banana', 'maca']"
      ]
     },
     "execution_count": 145,
     "metadata": {},
     "output_type": "execute_result"
    }
   ],
   "source": [
    "listas_frutas[0] = 'abacaxi'\n",
    "listas_frutas"
   ]
  },
  {
   "cell_type": "code",
   "execution_count": 146,
   "metadata": {},
   "outputs": [
    {
     "ename": "TypeError",
     "evalue": "'tuple' object does not support item assignment",
     "output_type": "error",
     "traceback": [
      "\u001b[1;31m---------------------------------------------------------------------------\u001b[0m",
      "\u001b[1;31mTypeError\u001b[0m                                 Traceback (most recent call last)",
      "\u001b[1;32m<ipython-input-146-e6d8e6b82dcd>\u001b[0m in \u001b[0;36m<module>\u001b[1;34m\u001b[0m\n\u001b[1;32m----> 1\u001b[1;33m \u001b[0mtupla_frutas\u001b[0m\u001b[1;33m[\u001b[0m\u001b[1;36m0\u001b[0m\u001b[1;33m]\u001b[0m \u001b[1;33m=\u001b[0m \u001b[1;34m'abacaxi'\u001b[0m\u001b[1;33m\u001b[0m\u001b[1;33m\u001b[0m\u001b[0m\n\u001b[0m",
      "\u001b[1;31mTypeError\u001b[0m: 'tuple' object does not support item assignment"
     ]
    }
   ],
   "source": [
    "tupla_frutas[0] = 'abacaxi'"
   ]
  },
  {
   "cell_type": "markdown",
   "metadata": {},
   "source": [
    "A principal diferença é: tuplas são **imutáveis**!\n",
    "\n",
    "Para tuplas **não é possível**: alterar elementos individuais, adicionar elementos, remover elementos ou alterar a ordem dos elementos. Uma vez criada, não é possível alterar nada de uma tupla!"
   ]
  },
  {
   "cell_type": "markdown",
   "metadata": {},
   "source": [
    "Qual a vantagem das tuplas?\n",
    "\n",
    "As tuplas e listas possuem operações úteis parecidas, `slicing`, `index`, `ordenação`. Sendo a principal diferença é que as listas conseguimos modificar o seu conteúdo enquanto as tuplas não conseguimos.\n",
    "\n",
    "Há duas diferenças que sugerem o uso de tuplas no lugar de listas:\n",
    "- Performance:\n",
    "  - Tuplas apresentam uma leve vantagem de acesso (\"pegar\" um elemento)\n",
    "  - Tuplas ocupam menos espaço na memória\n",
    "- Indicar de uma estrutura rígida:\n",
    "  - É um jeito de **sinalizar que esses dados não deveriam ser alterados**. \n",
    "  - É um meio de garantir que os elementos estarão **em uma ordem específica**.\n",
    "\n",
    "\n",
    "  - Quando utilizamos tuplas, queremos indicar que novos elementos não deveriam ser inseridos, assim como o seu conteúdo não deveria ser modificado"
   ]
  },
  {
   "cell_type": "markdown",
   "metadata": {},
   "source": [
    "# Exercícios"
   ]
  },
  {
   "cell_type": "markdown",
   "metadata": {},
   "source": [
    "## Funções"
   ]
  },
  {
   "cell_type": "markdown",
   "metadata": {},
   "source": [
    "1. Escreva uma função que calcule e retorne o dobro de um número inserido. Teste este caso solicitando ao usuário que insira um número e após isso, retorne a resposta."
   ]
  },
  {
   "cell_type": "code",
   "execution_count": null,
   "metadata": {},
   "outputs": [],
   "source": []
  },
  {
   "cell_type": "code",
   "execution_count": null,
   "metadata": {},
   "outputs": [],
   "source": []
  },
  {
   "cell_type": "markdown",
   "metadata": {},
   "source": [
    "2. Crie uma função para cálculo do comprimento da circunferência (C = 2 * 3.14 * R), sendo C o comprimento e R o raio da circunferência "
   ]
  },
  {
   "cell_type": "code",
   "execution_count": null,
   "metadata": {},
   "outputs": [],
   "source": []
  },
  {
   "cell_type": "code",
   "execution_count": null,
   "metadata": {},
   "outputs": [],
   "source": []
  },
  {
   "cell_type": "markdown",
   "metadata": {},
   "source": [
    "3. Faça uma função que emita uma saudação baseada no horário. A função deve receber o nome e o horário (apenas número inteiro) e emita a mensagem com as seguintes condições:\n",
    "- até meio dia (não incluso): \"Bom dia, (VARIAVEL_NOME)\"\n",
    "- entre meio dia (incluso) e 18h (não incluso): \"Boa tarde, (VARIAVEL_NOME)\"\n",
    "- após as 18h (incluso): \"Boa noite, (VARIAVEL_NOME)\""
   ]
  },
  {
   "cell_type": "code",
   "execution_count": null,
   "metadata": {},
   "outputs": [],
   "source": []
  },
  {
   "cell_type": "code",
   "execution_count": null,
   "metadata": {},
   "outputs": [],
   "source": []
  },
  {
   "cell_type": "markdown",
   "metadata": {},
   "source": [
    "4. Faça uma função que verifique se um número é par. Teste esta função solicitando ao usuário que digite um número e emitindo a mensagem adequada caso o número seja par ou não."
   ]
  },
  {
   "cell_type": "code",
   "execution_count": null,
   "metadata": {},
   "outputs": [],
   "source": []
  },
  {
   "cell_type": "code",
   "execution_count": null,
   "metadata": {},
   "outputs": [],
   "source": []
  },
  {
   "cell_type": "code",
   "execution_count": null,
   "metadata": {},
   "outputs": [],
   "source": []
  },
  {
   "cell_type": "code",
   "execution_count": null,
   "metadata": {},
   "outputs": [],
   "source": []
  },
  {
   "cell_type": "markdown",
   "metadata": {},
   "source": [
    "5. Crie uma função que recebe duas listas. Caso estas duas listas sejam do mesmo tamanho some os elementos de cada lista com mesmo índice, caso contrário retorne uma lista vazia.\n",
    "Se as duas listas de entrada forem do mesmo tamanho o programa deve se comportar como no exemplo:\n",
    "```python\n",
    "lista_01 = [1, 2, 3, 4, 5]\n",
    "lista_02 = [6, 7, 8, 9, 10]\n",
    "\n",
    "soma_listas(lista_01, lista_02)\n",
    "```\n",
    "saída:\n",
    "\n",
    "```\n",
    "[7, 9, 11, 13, 15]\n",
    "```"
   ]
  },
  {
   "cell_type": "code",
   "execution_count": null,
   "metadata": {},
   "outputs": [],
   "source": []
  },
  {
   "cell_type": "code",
   "execution_count": null,
   "metadata": {},
   "outputs": [],
   "source": []
  },
  {
   "cell_type": "code",
   "execution_count": null,
   "metadata": {},
   "outputs": [],
   "source": []
  },
  {
   "cell_type": "markdown",
   "metadata": {},
   "source": [
    "6. Utilize a mesma lógica do exercício anterior, porém agora você deve multiplicar os elementos ao invés de somá-los."
   ]
  },
  {
   "cell_type": "code",
   "execution_count": null,
   "metadata": {},
   "outputs": [],
   "source": []
  },
  {
   "cell_type": "code",
   "execution_count": null,
   "metadata": {},
   "outputs": [],
   "source": []
  },
  {
   "cell_type": "code",
   "execution_count": null,
   "metadata": {},
   "outputs": [],
   "source": []
  },
  {
   "cell_type": "code",
   "execution_count": null,
   "metadata": {},
   "outputs": [],
   "source": []
  },
  {
   "cell_type": "markdown",
   "metadata": {},
   "source": [
    "7. Faça uma função que recebe uma lista de números e calcula a média destes números."
   ]
  },
  {
   "cell_type": "code",
   "execution_count": null,
   "metadata": {},
   "outputs": [],
   "source": []
  },
  {
   "cell_type": "code",
   "execution_count": null,
   "metadata": {},
   "outputs": [],
   "source": []
  },
  {
   "cell_type": "markdown",
   "metadata": {},
   "source": [
    "8. Faça uma função que calcula o fatorial de um número."
   ]
  },
  {
   "cell_type": "markdown",
   "metadata": {},
   "source": [
    "5! = 5 * 4 * 3 * 2 * 1 = 120"
   ]
  },
  {
   "cell_type": "code",
   "execution_count": null,
   "metadata": {},
   "outputs": [],
   "source": []
  },
  {
   "cell_type": "code",
   "execution_count": null,
   "metadata": {},
   "outputs": [],
   "source": []
  },
  {
   "cell_type": "markdown",
   "metadata": {},
   "source": [
    "## Tuplas"
   ]
  },
  {
   "cell_type": "markdown",
   "metadata": {},
   "source": [
    "1. Um exemplo de uso de estruturas rígida poderia ser o cadastro de pessoas.  \n",
    "Nestes casos, coletamos algumas informações básicas sobre as pessoas usuárias, como nome, idade e estado de residência, por exemplo. Neste o sistema não espera que haja menos ou mais informações, sendo, assim, \"rígida\" essa estrutura.  \n",
    "\n",
    "Crie um código utilizando tupla e funções para coletar e armazenar os nomes, idades e estados dos usuários, dadas estas informações de entrada."
   ]
  },
  {
   "cell_type": "code",
   "execution_count": null,
   "metadata": {},
   "outputs": [],
   "source": []
  },
  {
   "cell_type": "code",
   "execution_count": null,
   "metadata": {},
   "outputs": [],
   "source": []
  },
  {
   "cell_type": "code",
   "execution_count": null,
   "metadata": {},
   "outputs": [],
   "source": []
  },
  {
   "cell_type": "code",
   "execution_count": null,
   "metadata": {},
   "outputs": [],
   "source": []
  },
  {
   "cell_type": "code",
   "execution_count": null,
   "metadata": {},
   "outputs": [],
   "source": []
  },
  {
   "cell_type": "code",
   "execution_count": null,
   "metadata": {},
   "outputs": [],
   "source": []
  },
  {
   "cell_type": "code",
   "execution_count": null,
   "metadata": {},
   "outputs": [],
   "source": []
  },
  {
   "cell_type": "code",
   "execution_count": null,
   "metadata": {},
   "outputs": [],
   "source": []
  },
  {
   "cell_type": "markdown",
   "metadata": {},
   "source": [
    "2. Utilizando a lista gerada anteriormente, crie três funções:\n",
    "- Pegue a idade minima das pessoas cadastradas\n",
    "- Pegue a idade máxima das pessoas cadastradas\n",
    "- Calcule a idade média das pessoas cadastradas"
   ]
  },
  {
   "cell_type": "code",
   "execution_count": null,
   "metadata": {},
   "outputs": [],
   "source": []
  },
  {
   "cell_type": "code",
   "execution_count": null,
   "metadata": {},
   "outputs": [],
   "source": []
  },
  {
   "cell_type": "code",
   "execution_count": null,
   "metadata": {},
   "outputs": [],
   "source": []
  },
  {
   "cell_type": "code",
   "execution_count": null,
   "metadata": {},
   "outputs": [],
   "source": []
  },
  {
   "cell_type": "code",
   "execution_count": null,
   "metadata": {},
   "outputs": [],
   "source": []
  },
  {
   "cell_type": "code",
   "execution_count": null,
   "metadata": {},
   "outputs": [],
   "source": []
  },
  {
   "cell_type": "code",
   "execution_count": null,
   "metadata": {},
   "outputs": [],
   "source": []
  },
  {
   "cell_type": "markdown",
   "metadata": {},
   "source": [
    "**Desafio**\n",
    "\n",
    "3. Modifique a função de cadastro de usuário para pegar as seguintes informações:\n",
    "- Nome\n",
    "- Idade\n",
    "- Estado\n",
    "- Sexo\n",
    "\n",
    "Agora crie uma função que permita descobrir a idade média de pessoas cadastradas pelo sexo (para manter simples, masculino e feminino, representado por `m` e `f`, respectivamente)."
   ]
  },
  {
   "cell_type": "markdown",
   "metadata": {},
   "source": []
  }
 ],
 "metadata": {
  "kernelspec": {
   "display_name": "Python 3",
   "language": "python",
   "name": "python3"
  },
  "language_info": {
   "codemirror_mode": {
    "name": "ipython",
    "version": 3
   },
   "file_extension": ".py",
   "mimetype": "text/x-python",
   "name": "python",
   "nbconvert_exporter": "python",
   "pygments_lexer": "ipython3",
   "version": "3.8.5"
  },
  "vscode": {
   "interpreter": {
    "hash": "5c66de18c091297d67c9a295278ca9503b5163a383fa85591c3cdb6daec33020"
   }
  }
 },
 "nbformat": 4,
 "nbformat_minor": 2
}
